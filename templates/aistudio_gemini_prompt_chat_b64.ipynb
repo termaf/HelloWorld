{
  "cells": [
    {
      "cell_type": "markdown",
      "metadata": {
        "id": "view-in-github",
        "colab_type": "text"
      },
      "source": [
        "<a href=\"https://colab.research.google.com/github/termaf/HelloWorld/blob/master/templates/aistudio_gemini_prompt_chat_b64.ipynb\" target=\"_parent\"><img src=\"https://colab.research.google.com/assets/colab-badge.svg\" alt=\"Open In Colab\"/></a>"
      ]
    },
    {
      "cell_type": "markdown",
      "metadata": {
        "id": "Tce3stUlHN0L"
      },
      "source": [
        "##### Copyright 2023 Google LLC"
      ]
    },
    {
      "cell_type": "code",
      "execution_count": 1,
      "metadata": {
        "cellView": "form",
        "id": "tuOe1ymfHZPu"
      },
      "outputs": [],
      "source": [
        "#@title Licensed under the Apache License, Version 2.0 (the \"License\");\n",
        "# you may not use this file except in compliance with the License.\n",
        "# You may obtain a copy of the License at\n",
        "#\n",
        "# https://www.apache.org/licenses/LICENSE-2.0\n",
        "#\n",
        "# Unless required by applicable law or agreed to in writing, software\n",
        "# distributed under the License is distributed on an \"AS IS\" BASIS,\n",
        "# WITHOUT WARRANTIES OR CONDITIONS OF ANY KIND, either express or implied.\n",
        "# See the License for the specific language governing permissions and\n",
        "# limitations under the License."
      ]
    },
    {
      "cell_type": "markdown",
      "metadata": {
        "id": "FKwyTRdwB8aW"
      },
      "source": [
        "## Setup"
      ]
    },
    {
      "cell_type": "markdown",
      "metadata": {
        "id": "rlE8UqxrDIez"
      },
      "source": [
        "### Install & import\n"
      ]
    },
    {
      "cell_type": "code",
      "execution_count": 2,
      "metadata": {
        "id": "cZiU4TKzznh9"
      },
      "outputs": [],
      "source": [
        "!pip install -U -q google-generativeai"
      ]
    },
    {
      "cell_type": "code",
      "execution_count": 3,
      "metadata": {
        "id": "kWIuwKG2_oWE"
      },
      "outputs": [],
      "source": [
        "# import necessary modules.\n",
        "import google.generativeai as genai\n",
        "import json\n",
        "import base64\n",
        "import pathlib\n",
        "import pprint\n",
        "import requests\n",
        "import mimetypes\n",
        "from IPython.display import Markdown"
      ]
    },
    {
      "cell_type": "markdown",
      "metadata": {
        "id": "Fet3lFjdKHEM"
      },
      "source": [
        "## Set the API key"
      ]
    },
    {
      "cell_type": "markdown",
      "metadata": {
        "id": "ZoRWILAtCzBE"
      },
      "source": [
        "Add your API_KEY to the secrets manager in the left pannel \"🔑\"."
      ]
    },
    {
      "cell_type": "code",
      "execution_count": 6,
      "metadata": {
        "id": "LaLCwNlkCyQd"
      },
      "outputs": [],
      "source": [
        "from google.colab import userdata\n",
        "\n",
        "API_KEY=userdata.get('API_KEY')"
      ]
    },
    {
      "cell_type": "code",
      "execution_count": 7,
      "metadata": {
        "id": "_SvYoR3WCeKr"
      },
      "outputs": [],
      "source": [
        "# Configure the client library by providing your API key.\n",
        "genai.configure(api_key=API_KEY)"
      ]
    },
    {
      "cell_type": "markdown",
      "metadata": {
        "id": "weo-o73WDpdm"
      },
      "source": [
        "### Parse the arguments"
      ]
    },
    {
      "cell_type": "code",
      "execution_count": 8,
      "metadata": {
        "id": "uIog-0SyDuIF"
      },
      "outputs": [],
      "source": [
        "model = 'gemini-1.5-pro-latest' # @param {isTemplate: true}\n",
        "contents_b64 = 'W10=' # @param {isTemplate: true}\n",
        "generation_config_b64 = 'eyJ0ZW1wZXJhdHVyZSI6MSwidG9wX3AiOjAuOTUsInRvcF9rIjowLCJtYXhfb3V0cHV0X3Rva2VucyI6ODE5Miwic3RvcF9zZXF1ZW5jZXMiOltdfQ==' # @param {isTemplate: true}\n",
        "safety_settings_b64 = 'W3siY2F0ZWdvcnkiOiJIQVJNX0NBVEVHT1JZX0hBUkFTU01FTlQiLCJ0aHJlc2hvbGQiOiJCTE9DS19NRURJVU1fQU5EX0FCT1ZFIn0seyJjYXRlZ29yeSI6IkhBUk1fQ0FURUdPUllfSEFURV9TUEVFQ0giLCJ0aHJlc2hvbGQiOiJCTE9DS19NRURJVU1fQU5EX0FCT1ZFIn0seyJjYXRlZ29yeSI6IkhBUk1fQ0FURUdPUllfU0VYVUFMTFlfRVhQTElDSVQiLCJ0aHJlc2hvbGQiOiJCTE9DS19NRURJVU1fQU5EX0FCT1ZFIn0seyJjYXRlZ29yeSI6IkhBUk1fQ0FURUdPUllfREFOR0VST1VTX0NPTlRFTlQiLCJ0aHJlc2hvbGQiOiJCTE9DS19NRURJVU1fQU5EX0FCT1ZFIn1d' # @param {isTemplate: true}\n",
        "user_input_b64 = '' # @param {isTemplate: true}\n",
        "\n",
        "contents = json.loads(base64.b64decode(contents_b64))\n",
        "generation_config = json.loads(base64.b64decode(generation_config_b64))\n",
        "safety_settings = json.loads(base64.b64decode(safety_settings_b64))\n",
        "user_input = base64.b64decode(user_input_b64).decode()\n",
        "stream = False"
      ]
    },
    {
      "cell_type": "code",
      "execution_count": 9,
      "metadata": {
        "id": "wBS8xNhN0x62",
        "colab": {
          "base_uri": "https://localhost:8080/"
        },
        "outputId": "a4260f1b-9327-4a9f-9607-f51097ceb025"
      },
      "outputs": [
        {
          "output_type": "execute_result",
          "data": {
            "text/plain": [
              "[]"
            ]
          },
          "metadata": {},
          "execution_count": 9
        }
      ],
      "source": [
        "contents"
      ]
    },
    {
      "cell_type": "code",
      "execution_count": 10,
      "metadata": {
        "id": "1681593ef561",
        "colab": {
          "base_uri": "https://localhost:8080/"
        },
        "outputId": "ddba5df9-afde-4c9e-f467-c6436ebcff69"
      },
      "outputs": [
        {
          "output_type": "execute_result",
          "data": {
            "text/plain": [
              "{'temperature': 1,\n",
              " 'top_p': 0.95,\n",
              " 'top_k': 0,\n",
              " 'max_output_tokens': 8192,\n",
              " 'stop_sequences': []}"
            ]
          },
          "metadata": {},
          "execution_count": 10
        }
      ],
      "source": [
        "generation_config"
      ]
    },
    {
      "cell_type": "code",
      "execution_count": 11,
      "metadata": {
        "id": "a2c31f8f1894",
        "colab": {
          "base_uri": "https://localhost:8080/"
        },
        "outputId": "b16338cc-ea26-4d2c-f5b4-2cb8a42f6675"
      },
      "outputs": [
        {
          "output_type": "execute_result",
          "data": {
            "text/plain": [
              "[{'category': 'HARM_CATEGORY_HARASSMENT',\n",
              "  'threshold': 'BLOCK_MEDIUM_AND_ABOVE'},\n",
              " {'category': 'HARM_CATEGORY_HATE_SPEECH',\n",
              "  'threshold': 'BLOCK_MEDIUM_AND_ABOVE'},\n",
              " {'category': 'HARM_CATEGORY_SEXUALLY_EXPLICIT',\n",
              "  'threshold': 'BLOCK_MEDIUM_AND_ABOVE'},\n",
              " {'category': 'HARM_CATEGORY_DANGEROUS_CONTENT',\n",
              "  'threshold': 'BLOCK_MEDIUM_AND_ABOVE'}]"
            ]
          },
          "metadata": {},
          "execution_count": 11
        }
      ],
      "source": [
        "safety_settings"
      ]
    },
    {
      "cell_type": "code",
      "execution_count": 14,
      "metadata": {
        "id": "4d17bac9fefc"
      },
      "outputs": [],
      "source": [
        "user_input = \"Hello Word, o que significa?\""
      ]
    },
    {
      "cell_type": "markdown",
      "metadata": {
        "id": "E7zAD69vE92b"
      },
      "source": [
        "### Call the API"
      ]
    },
    {
      "cell_type": "code",
      "execution_count": 15,
      "metadata": {
        "id": "LB2LxPmAB95V"
      },
      "outputs": [],
      "source": [
        "# Call the model and print the response.\n",
        "gemini = genai.GenerativeModel(model_name=model)\n",
        "\n",
        "chat = gemini.start_chat(history=contents)\n",
        "\n",
        "response = chat.send_message(\n",
        "    user_input,\n",
        "    stream=stream)"
      ]
    },
    {
      "cell_type": "code",
      "execution_count": 16,
      "metadata": {
        "id": "Lm3RXwYuGtZK",
        "colab": {
          "base_uri": "https://localhost:8080/",
          "height": 250
        },
        "outputId": "75f7db05-5ac4-41fb-fa08-902a21b15495"
      },
      "outputs": [
        {
          "output_type": "display_data",
          "data": {
            "text/plain": [
              "<IPython.core.display.Markdown object>"
            ],
            "text/markdown": "\"Hello World!\" não tem um significado profundo, mas tem uma longa e rica história no mundo da programação. \n\n**O que significa?**\n\nÉ uma frase simples em inglês que se traduz como \"Olá Mundo!\". É usada como um teste básico para garantir que um programa de computador está funcionando corretamente. \n\n**Por que é tão famosa?**\n\n* **Simplicidade:** É fácil de entender e digitar, tornando-se um ótimo primeiro programa para iniciantes em programação.\n* **Tradição:** Tornou-se uma tradição quase universal entre programadores usar \"Hello World!\" como o primeiro programa em uma nova linguagem ou sistema. \n* **Referência Cultural:** A frase se tornou tão icônica que é frequentemente usada em filmes, livros e outros meios de comunicação para representar o mundo da programação.\n\nEm resumo, \"Hello World!\" não tem um significado profundo em si, mas representa um marco importante na jornada de um programador, um símbolo da capacidade de um computador se comunicar com o mundo. \n"
          },
          "metadata": {}
        }
      ],
      "source": [
        "display(Markdown(response.text))"
      ]
    },
    {
      "cell_type": "code",
      "execution_count": 17,
      "metadata": {
        "id": "JbKuUc3NGxYD",
        "colab": {
          "base_uri": "https://localhost:8080/"
        },
        "outputId": "b5ebdc4b-e3c4-4a1e-b51a-132f46e3194a"
      },
      "outputs": [
        {
          "output_type": "execute_result",
          "data": {
            "text/plain": []
          },
          "metadata": {},
          "execution_count": 17
        }
      ],
      "source": [
        "response.prompt_feedback"
      ]
    },
    {
      "cell_type": "code",
      "execution_count": 18,
      "metadata": {
        "id": "SLAaIq3kgwwJ",
        "colab": {
          "base_uri": "https://localhost:8080/"
        },
        "outputId": "604db44e-b112-445d-f9cd-47aece784bbc"
      },
      "outputs": [
        {
          "output_type": "execute_result",
          "data": {
            "text/plain": [
              "[content {\n",
              "  parts {\n",
              "    text: \"\\\"Hello World!\\\" n\\303\\243o tem um significado profundo, mas tem uma longa e rica hist\\303\\263ria no mundo da programa\\303\\247\\303\\243o. \\n\\n**O que significa?**\\n\\n\\303\\211 uma frase simples em ingl\\303\\252s que se traduz como \\\"Ol\\303\\241 Mundo!\\\". \\303\\211 usada como um teste b\\303\\241sico para garantir que um programa de computador est\\303\\241 funcionando corretamente. \\n\\n**Por que \\303\\251 t\\303\\243o famosa?**\\n\\n* **Simplicidade:** \\303\\211 f\\303\\241cil de entender e digitar, tornando-se um \\303\\263timo primeiro programa para iniciantes em programa\\303\\247\\303\\243o.\\n* **Tradi\\303\\247\\303\\243o:** Tornou-se uma tradi\\303\\247\\303\\243o quase universal entre programadores usar \\\"Hello World!\\\" como o primeiro programa em uma nova linguagem ou sistema. \\n* **Refer\\303\\252ncia Cultural:** A frase se tornou t\\303\\243o ic\\303\\264nica que \\303\\251 frequentemente usada em filmes, livros e outros meios de comunica\\303\\247\\303\\243o para representar o mundo da programa\\303\\247\\303\\243o.\\n\\nEm resumo, \\\"Hello World!\\\" n\\303\\243o tem um significado profundo em si, mas representa um marco importante na jornada de um programador, um s\\303\\255mbolo da capacidade de um computador se comunicar com o mundo. \\n\"\n",
              "  }\n",
              "  role: \"model\"\n",
              "}\n",
              "finish_reason: STOP\n",
              "index: 0\n",
              "safety_ratings {\n",
              "  category: HARM_CATEGORY_SEXUALLY_EXPLICIT\n",
              "  probability: NEGLIGIBLE\n",
              "}\n",
              "safety_ratings {\n",
              "  category: HARM_CATEGORY_HATE_SPEECH\n",
              "  probability: NEGLIGIBLE\n",
              "}\n",
              "safety_ratings {\n",
              "  category: HARM_CATEGORY_HARASSMENT\n",
              "  probability: NEGLIGIBLE\n",
              "}\n",
              "safety_ratings {\n",
              "  category: HARM_CATEGORY_DANGEROUS_CONTENT\n",
              "  probability: NEGLIGIBLE\n",
              "}\n",
              "]"
            ]
          },
          "metadata": {},
          "execution_count": 18
        }
      ],
      "source": [
        "response.candidates"
      ]
    }
  ],
  "metadata": {
    "colab": {
      "collapsed_sections": [
        "Tce3stUlHN0L"
      ],
      "name": "aistudio_gemini_prompt_chat_b64.ipynb",
      "toc_visible": true,
      "provenance": [],
      "include_colab_link": true
    },
    "kernelspec": {
      "display_name": "Python 3",
      "name": "python3"
    }
  },
  "nbformat": 4,
  "nbformat_minor": 0
}